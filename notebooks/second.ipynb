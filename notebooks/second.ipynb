{
 "cells": [
  {
   "cell_type": "code",
   "execution_count": 1,
   "metadata": {},
   "outputs": [],
   "source": [
    "%matplotlib inline"
   ]
  },
  {
   "cell_type": "code",
   "execution_count": 15,
   "metadata": {},
   "outputs": [],
   "source": [
    "import matplotlib.pyplot as plt\n",
    "import pandas as pd\n",
    "import numpy as np\n",
    "import itertools\n",
    "import sklearn.feature_selection as sfs\n",
    "from collections import defaultdict\n",
    "from SafeTransformer import SafeTransformer\n",
    "\n",
    "from xgboost.sklearn import XGBClassifier\n",
    "from lightgbm.sklearn import LGBMClassifier\n",
    "from sklearn.model_selection import StratifiedKFold, cross_validate, GridSearchCV\n",
    "from sklearn.linear_model import LogisticRegression\n",
    "from sklearn.ensemble import RandomForestClassifier\n",
    "from sklearn.metrics import balanced_accuracy_score, make_scorer\n",
    "\n",
    "from tqdm import tqdm_notebook as tqdm"
   ]
  },
  {
   "cell_type": "code",
   "execution_count": 3,
   "metadata": {},
   "outputs": [],
   "source": [
    "seed = 20"
   ]
  },
  {
   "cell_type": "code",
   "execution_count": 4,
   "metadata": {},
   "outputs": [
    {
     "data": {
      "text/html": [
       "<div>\n",
       "<style scoped>\n",
       "    .dataframe tbody tr th:only-of-type {\n",
       "        vertical-align: middle;\n",
       "    }\n",
       "\n",
       "    .dataframe tbody tr th {\n",
       "        vertical-align: top;\n",
       "    }\n",
       "\n",
       "    .dataframe thead th {\n",
       "        text-align: right;\n",
       "    }\n",
       "</style>\n",
       "<table border=\"1\" class=\"dataframe\">\n",
       "  <thead>\n",
       "    <tr style=\"text-align: right;\">\n",
       "      <th></th>\n",
       "      <th>0</th>\n",
       "      <th>1</th>\n",
       "      <th>2</th>\n",
       "      <th>3</th>\n",
       "      <th>4</th>\n",
       "      <th>5</th>\n",
       "      <th>6</th>\n",
       "      <th>7</th>\n",
       "      <th>8</th>\n",
       "      <th>9</th>\n",
       "      <th>...</th>\n",
       "      <th>490</th>\n",
       "      <th>491</th>\n",
       "      <th>492</th>\n",
       "      <th>493</th>\n",
       "      <th>494</th>\n",
       "      <th>495</th>\n",
       "      <th>496</th>\n",
       "      <th>497</th>\n",
       "      <th>498</th>\n",
       "      <th>499</th>\n",
       "    </tr>\n",
       "  </thead>\n",
       "  <tbody>\n",
       "    <tr>\n",
       "      <th>0</th>\n",
       "      <td>485</td>\n",
       "      <td>477</td>\n",
       "      <td>537</td>\n",
       "      <td>479</td>\n",
       "      <td>452</td>\n",
       "      <td>471</td>\n",
       "      <td>491</td>\n",
       "      <td>476</td>\n",
       "      <td>475</td>\n",
       "      <td>473</td>\n",
       "      <td>...</td>\n",
       "      <td>477</td>\n",
       "      <td>481</td>\n",
       "      <td>477</td>\n",
       "      <td>485</td>\n",
       "      <td>511</td>\n",
       "      <td>485</td>\n",
       "      <td>481</td>\n",
       "      <td>479</td>\n",
       "      <td>475</td>\n",
       "      <td>496</td>\n",
       "    </tr>\n",
       "    <tr>\n",
       "      <th>1</th>\n",
       "      <td>483</td>\n",
       "      <td>458</td>\n",
       "      <td>460</td>\n",
       "      <td>487</td>\n",
       "      <td>587</td>\n",
       "      <td>475</td>\n",
       "      <td>526</td>\n",
       "      <td>479</td>\n",
       "      <td>485</td>\n",
       "      <td>469</td>\n",
       "      <td>...</td>\n",
       "      <td>463</td>\n",
       "      <td>478</td>\n",
       "      <td>487</td>\n",
       "      <td>338</td>\n",
       "      <td>513</td>\n",
       "      <td>486</td>\n",
       "      <td>483</td>\n",
       "      <td>492</td>\n",
       "      <td>510</td>\n",
       "      <td>517</td>\n",
       "    </tr>\n",
       "    <tr>\n",
       "      <th>2</th>\n",
       "      <td>487</td>\n",
       "      <td>542</td>\n",
       "      <td>499</td>\n",
       "      <td>468</td>\n",
       "      <td>448</td>\n",
       "      <td>471</td>\n",
       "      <td>442</td>\n",
       "      <td>478</td>\n",
       "      <td>480</td>\n",
       "      <td>477</td>\n",
       "      <td>...</td>\n",
       "      <td>487</td>\n",
       "      <td>481</td>\n",
       "      <td>492</td>\n",
       "      <td>650</td>\n",
       "      <td>506</td>\n",
       "      <td>501</td>\n",
       "      <td>480</td>\n",
       "      <td>489</td>\n",
       "      <td>499</td>\n",
       "      <td>498</td>\n",
       "    </tr>\n",
       "    <tr>\n",
       "      <th>3</th>\n",
       "      <td>480</td>\n",
       "      <td>491</td>\n",
       "      <td>510</td>\n",
       "      <td>485</td>\n",
       "      <td>495</td>\n",
       "      <td>472</td>\n",
       "      <td>417</td>\n",
       "      <td>474</td>\n",
       "      <td>502</td>\n",
       "      <td>476</td>\n",
       "      <td>...</td>\n",
       "      <td>491</td>\n",
       "      <td>480</td>\n",
       "      <td>474</td>\n",
       "      <td>572</td>\n",
       "      <td>454</td>\n",
       "      <td>469</td>\n",
       "      <td>475</td>\n",
       "      <td>482</td>\n",
       "      <td>494</td>\n",
       "      <td>461</td>\n",
       "    </tr>\n",
       "    <tr>\n",
       "      <th>4</th>\n",
       "      <td>484</td>\n",
       "      <td>502</td>\n",
       "      <td>528</td>\n",
       "      <td>489</td>\n",
       "      <td>466</td>\n",
       "      <td>481</td>\n",
       "      <td>402</td>\n",
       "      <td>478</td>\n",
       "      <td>487</td>\n",
       "      <td>468</td>\n",
       "      <td>...</td>\n",
       "      <td>488</td>\n",
       "      <td>479</td>\n",
       "      <td>452</td>\n",
       "      <td>435</td>\n",
       "      <td>486</td>\n",
       "      <td>508</td>\n",
       "      <td>481</td>\n",
       "      <td>504</td>\n",
       "      <td>495</td>\n",
       "      <td>511</td>\n",
       "    </tr>\n",
       "  </tbody>\n",
       "</table>\n",
       "<p>5 rows × 500 columns</p>\n",
       "</div>"
      ],
      "text/plain": [
       "   0    1    2    3    4    5    6    7    8    9    ...  490  491  492  493  \\\n",
       "0  485  477  537  479  452  471  491  476  475  473  ...  477  481  477  485   \n",
       "1  483  458  460  487  587  475  526  479  485  469  ...  463  478  487  338   \n",
       "2  487  542  499  468  448  471  442  478  480  477  ...  487  481  492  650   \n",
       "3  480  491  510  485  495  472  417  474  502  476  ...  491  480  474  572   \n",
       "4  484  502  528  489  466  481  402  478  487  468  ...  488  479  452  435   \n",
       "\n",
       "   494  495  496  497  498  499  \n",
       "0  511  485  481  479  475  496  \n",
       "1  513  486  483  492  510  517  \n",
       "2  506  501  480  489  499  498  \n",
       "3  454  469  475  482  494  461  \n",
       "4  486  508  481  504  495  511  \n",
       "\n",
       "[5 rows x 500 columns]"
      ]
     },
     "execution_count": 4,
     "metadata": {},
     "output_type": "execute_result"
    }
   ],
   "source": [
    "df = pd.read_csv('../data/artificial_train.data', sep=' ', header=None).drop(500, axis=1)\n",
    "df.head()"
   ]
  },
  {
   "cell_type": "code",
   "execution_count": 5,
   "metadata": {},
   "outputs": [
    {
     "data": {
      "text/plain": [
       "0   -1\n",
       "1   -1\n",
       "2   -1\n",
       "3    1\n",
       "4    1\n",
       "Name: 0, dtype: int64"
      ]
     },
     "execution_count": 5,
     "metadata": {},
     "output_type": "execute_result"
    }
   ],
   "source": [
    "labels = pd.read_csv('../data/artificial_train.labels', header=None)[0]\n",
    "labels.head()"
   ]
  },
  {
   "cell_type": "code",
   "execution_count": 30,
   "metadata": {},
   "outputs": [
    {
     "data": {
      "application/vnd.jupyter.widget-view+json": {
       "model_id": "107c0d3470794bacb1e35b22089084c2",
       "version_major": 2,
       "version_minor": 0
      },
      "text/plain": [
       "HBox(children=(IntProgress(value=0, max=50), HTML(value='')))"
      ]
     },
     "metadata": {},
     "output_type": "display_data"
    },
    {
     "name": "stdout",
     "output_type": "stream",
     "text": [
      "\n"
     ]
    },
    {
     "data": {
      "text/plain": [
       "[(241, 50),\n",
       " (336, 49),\n",
       " (338, 49),\n",
       " (475, 46),\n",
       " (105, 45),\n",
       " (128, 44),\n",
       " (472, 25),\n",
       " (442, 20),\n",
       " (329, 15),\n",
       " (298, 13),\n",
       " (481, 7),\n",
       " (199, 6),\n",
       " (64, 5),\n",
       " (119, 5),\n",
       " (296, 5),\n",
       " (10, 4),\n",
       " (55, 4),\n",
       " (204, 4),\n",
       " (48, 4),\n",
       " (431, 4),\n",
       " (286, 3),\n",
       " (430, 3),\n",
       " (494, 2),\n",
       " (453, 1),\n",
       " (378, 1),\n",
       " (411, 1)]"
      ]
     },
     "execution_count": 30,
     "metadata": {},
     "output_type": "execute_result"
    }
   ],
   "source": [
    "from collections import Counter\n",
    "\n",
    "c = Counter()\n",
    "for i in tqdm(range(50), total=50):\n",
    "    p1 = set(df.columns[sfs.chi2(df, labels)[1] < 0.05].values)\n",
    "    p2 = set(df.columns[sfs.f_classif(df, labels)[1] < 0.05].values)\n",
    "    x = sfs.mutual_info_classif(df, labels)\n",
    "    p3 = set(np.argsort(x)[:-50:-1])\n",
    "    important_cols = p1.intersection(p2).intersection(p3)\n",
    "    c.update(important_cols)\n",
    "    \n",
    "c.most_common()"
   ]
  },
  {
   "cell_type": "code",
   "execution_count": 25,
   "metadata": {},
   "outputs": [
    {
     "data": {
      "text/plain": [
       "({'criterion': 'entropy',\n",
       "  'min_samples_split': 2,\n",
       "  'n_estimators': 100,\n",
       "  'n_jobs': -1,\n",
       "  'random_state': 20},\n",
       " 0.808)"
      ]
     },
     "execution_count": 25,
     "metadata": {},
     "output_type": "execute_result"
    }
   ],
   "source": [
    "cols = [241, 336, 338, 475, 105, 128, 472, 442]\n",
    "params = {\n",
    "    'criterion': ['gini', 'entropy'],\n",
    "    'min_samples_split': [2, 10, 50, 100],\n",
    "    'n_estimators': [20, 100, 300, 500, 1000],\n",
    "    'n_jobs': [-1],\n",
    "    'random_state': [seed],\n",
    "}\n",
    "search = GridSearchCV(model, params, cv=5, n_jobs=-1, scoring=make_scorer(balanced_accuracy_score))\n",
    "search.fit(df[cols], labels)\n",
    "search.best_params_, search.best_score_"
   ]
  },
  {
   "cell_type": "markdown",
   "metadata": {},
   "source": [
    "## Find best predictive doubles "
   ]
  },
  {
   "cell_type": "code",
   "execution_count": 42,
   "metadata": {},
   "outputs": [
    {
     "name": "stdout",
     "output_type": "stream",
     "text": [
      "46\n"
     ]
    }
   ],
   "source": [
    "a = [[48, 128, 153, 241, 451, 472, 493], \n",
    "     [48, 64, 128, 153, 241, 338, 451, 472, 493],\n",
    "     [48, 64, 128, 153, 241, 338, 451, 455, 472, 493],\n",
    "     [48, 64, 128, 153, 241, 451, 472, 493],\n",
    "     [64, 128, 451, 472, 153, 475, 493, 48],\n",
    "     [475,  48, 323, 424, 296, 204, 496, 431, 211, 481, 282,  10, 430, 53, 205, 248, 384, 377, 425, 226],\n",
    "     [28, 318, 451],\n",
    "     [48, 378],\n",
    "     [64, 336],\n",
    "     [105, 128],\n",
    "     [153, 281, 433],\n",
    "     [241, 475],\n",
    "     [442, 472],\n",
    "     [453, 493]]\n",
    "\n",
    "# [64, 128, 451, 472, 153, 475, 493, 48]\n",
    "\n",
    "a.append(list(c.keys()))\n",
    "f_set = set()\n",
    "for x in a:\n",
    "    f_set = f_set.union(x)\n",
    "    \n",
    "print(len(f_set))"
   ]
  },
  {
   "cell_type": "markdown",
   "metadata": {},
   "source": [
    "[64, 128, 451, 472, 153, 475, 493, 48]\n",
    "chosen = set()"
   ]
  },
  {
   "cell_type": "code",
   "execution_count": 44,
   "metadata": {},
   "outputs": [
    {
     "data": {
      "application/vnd.jupyter.widget-view+json": {
       "model_id": "18d02d03f42f40eab9f2265984aedbc4",
       "version_major": 2,
       "version_minor": 0
      },
      "text/plain": [
       "HBox(children=(IntProgress(value=0, max=1035), HTML(value='')))"
      ]
     },
     "metadata": {},
     "output_type": "display_data"
    },
    {
     "name": "stdout",
     "output_type": "stream",
     "text": [
      "0.679\n",
      "{'criterion': 'entropy', 'min_samples_split': 50, 'n_estimators': 300, 'n_jobs': -1, 'random_state': 20}\n",
      "(338, 241)\n"
     ]
    }
   ],
   "source": [
    "all_scores = []\n",
    "\n",
    "model = RandomForestClassifier()\n",
    "best_score, best_params, best_comb = 0, None, None\n",
    "\n",
    "for comb in tqdm(list(itertools.combinations(f_set, 2))):\n",
    "    params = {\n",
    "        'criterion': ['gini', 'entropy'],\n",
    "        'min_samples_split': [2, 10, 50, 100],\n",
    "        'n_estimators': [20, 100, 300, 1000],\n",
    "        'n_jobs': [-1],\n",
    "        'random_state': [seed],\n",
    "    }\n",
    "    search = GridSearchCV(model, params, cv=2, n_jobs=-1)\n",
    "    t_df = df[list(comb)]\n",
    "    search.fit(t_df, labels)\n",
    "    if search.best_score_ > best_score:\n",
    "        best_score = search.best_score_\n",
    "        best_params = search.best_params_\n",
    "        best_comb = comb\n",
    "    all_scores.append((comb, search.best_score_))\n",
    "\n",
    "print(best_score)\n",
    "print(best_params)\n",
    "print(best_comb)"
   ]
  },
  {
   "cell_type": "code",
   "execution_count": 59,
   "metadata": {},
   "outputs": [
    {
     "name": "stdout",
     "output_type": "stream",
     "text": [
      "{128, 64, 453, 281, 105, 493, 378, 48, 241, 338, 433, 336, 472, 153, 442, 475, 28}\n"
     ]
    }
   ],
   "source": [
    "print(set(np.squeeze(np.array([[pair[0], pair[1]] for pair, score in all_scores if score > 0.63])).flatten()))"
   ]
  },
  {
   "cell_type": "markdown",
   "metadata": {},
   "source": [
    "Add to best selection in notebook 1: (451, 378, 64, 128, 281, 241, 442, 493)\n",
    "338"
   ]
  },
  {
   "cell_type": "markdown",
   "metadata": {},
   "source": [
    "## Final set selection\n",
    "#### Lets find the best subset"
   ]
  },
  {
   "cell_type": "code",
   "execution_count": 6,
   "metadata": {},
   "outputs": [
    {
     "data": {
      "application/vnd.jupyter.widget-view+json": {
       "model_id": "c4213727a4d74922b8ea2b7851bf1e3d",
       "version_major": 2,
       "version_minor": 0
      },
      "text/plain": [
       "HBox(children=(IntProgress(value=0, max=4), HTML(value='')))"
      ]
     },
     "metadata": {},
     "output_type": "display_data"
    },
    {
     "name": "stdout",
     "output_type": "stream",
     "text": [
      "\n",
      "0.893\n",
      "{'criterion': 'gini', 'min_samples_split': 2, 'n_estimators': 300, 'n_jobs': -1, 'random_state': 20}\n",
      "(451, 378, 64, 128, 281, 241, 493, 338)\n"
     ]
    }
   ],
   "source": [
    "final_columns = [451, 378, 64, 128, 281, 241, 442, 493, 338]\n",
    "all_scores = defaultdict(list)\n",
    "\n",
    "model = RandomForestClassifier()\n",
    "best_score, best_params, best_comb = 0, None, None\n",
    "\n",
    "for i in tqdm(range(5, len(final_columns))):\n",
    "    for comb in itertools.combinations(final_columns, i):\n",
    "        params = {\n",
    "            'criterion': ['gini', 'entropy'],\n",
    "            'min_samples_split': [2, 10, 50, 100],\n",
    "            'n_estimators': [20, 100, 300, 1000],\n",
    "            'n_jobs': [-1],\n",
    "            'random_state': [seed],\n",
    "        }\n",
    "        search = GridSearchCV(model, params, cv=5, n_jobs=-1)\n",
    "        t_df = df[list(comb)]\n",
    "        search.fit(t_df, labels)\n",
    "        if search.best_score_ > best_score:\n",
    "            best_score = search.best_score_\n",
    "            best_params = search.best_params_\n",
    "            best_comb = comb\n",
    "        all_scores[i].append((comb, search.best_score_))\n",
    "\n",
    "print(best_score)\n",
    "print(best_params)\n",
    "print(best_comb)"
   ]
  },
  {
   "cell_type": "code",
   "execution_count": 7,
   "metadata": {},
   "outputs": [
    {
     "name": "stdout",
     "output_type": "stream",
     "text": [
      "5 (451, 378, 128, 281, 241) 0.8775\n",
      "6 (451, 378, 64, 281, 241, 493) 0.887\n",
      "7 (451, 378, 64, 128, 281, 241, 493) 0.8895\n",
      "8 (451, 378, 64, 128, 281, 241, 493, 338) 0.893\n"
     ]
    }
   ],
   "source": [
    "for i in all_scores:\n",
    "    comb, sc = max(all_scores[i], key=lambda x: x[1])\n",
    "    print(i, comb, sc)"
   ]
  },
  {
   "cell_type": "code",
   "execution_count": 21,
   "metadata": {},
   "outputs": [
    {
     "data": {
      "text/plain": [
       "0.893"
      ]
     },
     "execution_count": 21,
     "metadata": {},
     "output_type": "execute_result"
    }
   ],
   "source": [
    "chosen_set = [451, 378, 64, 128, 281, 241, 493, 338]\n",
    "model = RandomForestClassifier(**{'criterion': 'gini', 'min_samples_split': 2, 'n_estimators': 300, 'n_jobs': -1, 'random_state': 20})\n",
    "t_df = df[chosen_set]\n",
    "sc = cross_validate(model, t_df, labels, cv=5, scoring=make_scorer(balanced_accuracy_score), return_train_score=False)\n",
    "np.mean(sc['test_score'])"
   ]
  },
  {
   "cell_type": "code",
   "execution_count": 8,
   "metadata": {},
   "outputs": [
    {
     "data": {
      "text/plain": [
       "{'criterion': 'entropy',\n",
       " 'min_samples_split': 2,\n",
       " 'n_estimators': 300,\n",
       " 'n_jobs': -1,\n",
       " 'random_state': 20}"
      ]
     },
     "execution_count": 8,
     "metadata": {},
     "output_type": "execute_result"
    }
   ],
   "source": [
    "params = {\n",
    "    'criterion': ['gini', 'entropy'],\n",
    "    'min_samples_split': [2, 10, 50, 100],\n",
    "    'n_estimators': [20, 100, 300, 500, 1000],\n",
    "    'n_jobs': [-1],\n",
    "    'random_state': [seed],\n",
    "}\n",
    "search = GridSearchCV(model, params, cv=5, n_jobs=-1)\n",
    "t_df = df[final_columns]\n",
    "search.fit(t_df, labels)\n",
    "search.best_score_, search.best_params_"
   ]
  },
  {
   "cell_type": "code",
   "execution_count": 22,
   "metadata": {},
   "outputs": [
    {
     "data": {
      "text/plain": [
       "Index([    451,     378,      64,     128,     281,     241,     442,     493,\n",
       "           338, '451^2', '378^2',  '64^2', '128^2', '281^2', '241^2', '493^2',\n",
       "       '338^2'],\n",
       "      dtype='object')"
      ]
     },
     "execution_count": 22,
     "metadata": {},
     "output_type": "execute_result"
    }
   ],
   "source": [
    "cols = [451, 378, 64, 128, 281, 241, 493, 338]\n",
    "square_df = df[final_columns].copy()\n",
    "for col in cols:\n",
    "    new_col = str(col) + '^2'\n",
    "    new_vals = square_df[col].apply(lambda x: x**2)\n",
    "    square_df[new_col] = new_vals\n",
    "    \n",
    "square_df.columns"
   ]
  },
  {
   "cell_type": "code",
   "execution_count": 16,
   "metadata": {},
   "outputs": [
    {
     "data": {
      "text/plain": [
       "({'criterion': 'gini',\n",
       "  'min_samples_split': 2,\n",
       "  'n_estimators': 500,\n",
       "  'n_jobs': -1,\n",
       "  'random_state': 20},\n",
       " 0.8935)"
      ]
     },
     "execution_count": 16,
     "metadata": {},
     "output_type": "execute_result"
    }
   ],
   "source": [
    "params = {\n",
    "    'criterion': ['gini', 'entropy'],\n",
    "    'min_samples_split': [2, 10, 50, 100],\n",
    "    'n_estimators': [20, 100, 300, 500, 1000],\n",
    "    'n_jobs': [-1],\n",
    "    'random_state': [seed],\n",
    "}\n",
    "search = GridSearchCV(model, params, cv=5, n_jobs=-1, scoring=make_scorer(balanced_accuracy_score))\n",
    "search.fit(square_df, labels)\n",
    "search.best_params_, search.best_score_"
   ]
  },
  {
   "cell_type": "code",
   "execution_count": 23,
   "metadata": {},
   "outputs": [
    {
     "data": {
      "text/plain": [
       "0.8935000000000001"
      ]
     },
     "execution_count": 23,
     "metadata": {},
     "output_type": "execute_result"
    }
   ],
   "source": [
    "model = RandomForestClassifier(**{'criterion': 'gini', 'min_samples_split': 2, 'n_estimators': 500, 'n_jobs': -1, 'random_state': 20})\n",
    "sc = cross_validate(model, square_df, labels, cv=5, scoring=make_scorer(balanced_accuracy_score), return_train_score=False)\n",
    "np.mean(sc['test_score'])"
   ]
  },
  {
   "cell_type": "code",
   "execution_count": null,
   "metadata": {},
   "outputs": [],
   "source": []
  }
 ],
 "metadata": {
  "kernelspec": {
   "display_name": "Python 3",
   "language": "python",
   "name": "python3"
  },
  "language_info": {
   "codemirror_mode": {
    "name": "ipython",
    "version": 3
   },
   "file_extension": ".py",
   "mimetype": "text/x-python",
   "name": "python",
   "nbconvert_exporter": "python",
   "pygments_lexer": "ipython3",
   "version": "3.7.3"
  }
 },
 "nbformat": 4,
 "nbformat_minor": 2
}
